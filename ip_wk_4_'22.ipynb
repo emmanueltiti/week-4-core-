{
  "nbformat": 4,
  "nbformat_minor": 0,
  "metadata": {
    "colab": {
      "name": "ip wk 4 '22",
      "private_outputs": true,
      "provenance": [],
      "authorship_tag": "ABX9TyODLVw8Wu6nEiavRgm2vUzl",
      "include_colab_link": true
    },
    "kernelspec": {
      "name": "python3",
      "display_name": "Python 3"
    },
    "language_info": {
      "name": "python"
    }
  },
  "cells": [
    {
      "cell_type": "markdown",
      "metadata": {
        "id": "view-in-github",
        "colab_type": "text"
      },
      "source": [
        "<a href=\"https://colab.research.google.com/github/emmanueltiti/week-4-core-/blob/main/ip_wk_4_'22.ipynb\" target=\"_parent\"><img src=\"https://colab.research.google.com/assets/colab-badge.svg\" alt=\"Open In Colab\"/></a>"
      ]
    },
    {
      "cell_type": "code",
      "execution_count": null,
      "metadata": {
        "id": "ALytceIq9uwx"
      },
      "outputs": [],
      "source": [
        "import numpy as np\n",
        "import pandas  as pd\n",
        "import seaborn as sns\n",
        "import matplotlib.pyplot as plt\n",
        "\n",
        "#loading the data\n",
        " \n",
        "df=pd.read_csv(\"http://bit.ly/DSCoreAutolibDataset\") \n",
        "df.head()"
      ]
    },
    {
      "cell_type": "code",
      "source": [
        "df.shape"
      ],
      "metadata": {
        "id": "Wn6yFlYQq32k"
      },
      "execution_count": null,
      "outputs": []
    },
    {
      "cell_type": "code",
      "source": [
        "\n",
        "#some of the columns data tyoes need to be changed, namely date, dayOfweek into a date type and an object respectively\n",
        "df[\"date\"]=df['date'].astype('datetime64')\n",
        "df[\"dayOfWeek\"]=df['dayOfWeek'].astype('object')\n",
        "df[\"Postal code\"]=df[\"Postal code\"].astype('object')\n",
        "df.info()"
      ],
      "metadata": {
        "id": "ICUwwyA4CNmN"
      },
      "execution_count": null,
      "outputs": []
    },
    {
      "cell_type": "code",
      "source": [
        "df.describe()"
      ],
      "metadata": {
        "id": "BzRCxIG9_KMA"
      },
      "execution_count": null,
      "outputs": []
    },
    {
      "cell_type": "code",
      "source": [
        "df.isnull().sum()\n",
        "#The data has no  missing values hense data is clean"
      ],
      "metadata": {
        "id": "mn8D9aKr_XZx"
      },
      "execution_count": null,
      "outputs": []
    },
    {
      "cell_type": "code",
      "source": [
        "#cheking for outliers\n",
        "sns.boxplot(x=df['day_type'], y=df['BlueCars_taken_sum'])\n",
        "#from the plot we can see there are numerous value above the estimated upper quatile \n",
        "#droping these values will result in high levels of in accuracy that we would make \n",
        "#it is hence important to keep the value in place and \n"
      ],
      "metadata": {
        "id": "ZZfR1oGsIoyC"
      },
      "execution_count": null,
      "outputs": []
    },
    {
      "cell_type": "markdown",
      "source": [
        "Univariate analysis"
      ],
      "metadata": {
        "id": "XxdJ1tKKmtnx"
      }
    },
    {
      "cell_type": "code",
      "source": [
        "##here we will use visuals to try and understarnd our variabkes farther\n",
        "plt.hist(df['BlueCars_taken_sum'])\n",
        "##the graph hels us visualise the distribution of the values  in the bluue cars taken \n"
      ],
      "metadata": {
        "id": "FsNOz5QMnH28"
      },
      "execution_count": null,
      "outputs": []
    },
    {
      "cell_type": "code",
      "source": [
        "##the corelation values hels us identify the relationship btween our different values\n",
        "##for instance the correlation between the blue cars taken and blue cars returned is high and positive meaning that the values of the two columns are alsmost same \n",
        "df.corr() "
      ],
      "metadata": {
        "id": "Iz_YCYZI5Pfc"
      },
      "execution_count": null,
      "outputs": []
    },
    {
      "cell_type": "markdown",
      "source": [
        "**Hypothesis testing**\n",
        "\n",
        "\n",
        "Here we start testing our two formulated hypothesis. Our null being thet the avarage blue cars taken are equal for both the weekdays and the week ends"
      ],
      "metadata": {
        "id": "ybpKy-dIS1cr"
      }
    },
    {
      "cell_type": "code",
      "source": [
        "#We can start by making two seperate data frames for  the weekdays and the weekends \n",
        "df_weekday=df[[\"day_type\",\"BlueCars_taken_sum\"]]\n",
        "df_weekday.drop(df_weekday.index[df_weekday[\"day_type\"] == 'weekend'], inplace = True)\n",
        "sample_weekday=df_weekday.sample(frac=.5)\n",
        "sample_weekday1=sample_weekday.drop(\"day_type\",axis=1)\n",
        "sample_weekday1\n",
        "#df2 now contains only weekday records from which we could get our samples ie 50% of the popularion for accuracy\n"
      ],
      "metadata": {
        "id": "MUhzWAJ4qlcr"
      },
      "execution_count": null,
      "outputs": []
    },
    {
      "cell_type": "code",
      "source": [
        "##We do the same for the weekend data and obtain samples\n",
        "df_weekend=df[[\"day_type\",\"BlueCars_taken_sum\"]]\n",
        "df_weekend.drop(df_weekend.index[df_weekend[\"day_type\"] == 'weekday'], inplace = True)\n",
        "df_weekend.head()\n",
        "sample_weekend=df_weekend.sample(frac=.5)\n",
        "sample_weekend1=sample_weekend.drop(\"day_type\",axis=1)\n",
        "sample_weekend1"
      ],
      "metadata": {
        "id": "2lesGAzDv8NO"
      },
      "execution_count": null,
      "outputs": []
    },
    {
      "cell_type": "code",
      "source": [
        "import scipy.stats as stats \n",
        "import math"
      ],
      "metadata": {
        "id": "PBlf_kut_Bsg"
      },
      "execution_count": null,
      "outputs": []
    },
    {
      "cell_type": "code",
      "source": [
        "##We can now perform our t sample t-test\n",
        "stats.ttest_ind(a=sample_weekend1,b=sample_weekday1,equal_var=False)"
      ],
      "metadata": {
        "id": "9PvwDPa3wwKq"
      },
      "execution_count": null,
      "outputs": []
    },
    {
      "cell_type": "markdown",
      "source": [
        "**Point estimate**"
      ],
      "metadata": {
        "id": "Y4tu8qTVHSK6"
      }
    },
    {
      "cell_type": "code",
      "source": [
        "#the means /averages of our sample data is our point estimate for week day\n",
        "print(sample_weekday['BlueCars_taken_sum'].mean() )\n",
        "df_weekday['BlueCars_taken_sum'].mean()\n"
      ],
      "metadata": {
        "id": "7nVOQS8hCWJT"
      },
      "execution_count": null,
      "outputs": []
    },
    {
      "cell_type": "code",
      "source": [
        "#point estimate for weekends \n",
        "print(sample_weekend['BlueCars_taken_sum'].mean() )\n",
        "df_weekend['BlueCars_taken_sum'].mean()\n"
      ],
      "metadata": {
        "id": "B1Fc8DaNIjYN"
      },
      "execution_count": null,
      "outputs": []
    },
    {
      "cell_type": "markdown",
      "source": [
        "**Confidence intervals**"
      ],
      "metadata": {
        "id": "2H40Bo85L8VJ"
      }
    },
    {
      "cell_type": "code",
      "source": [
        "##here we use the t value\n",
        "t_critical=stats.t.ppf(q=0.975,df=2269)\n",
        "print(t_critical)\n",
        "sample_stdev = sample_weekend.std(ddof=1)\n",
        "sigma = sample_stdev/math.sqrt(2270)  \n",
        "margin_of_error = t_critical * sigma\n",
        "\n",
        "confidence_interval = ((sample_weekend['BlueCars_taken_sum'].mean() )- margin_of_error, (sample_weekend['BlueCars_taken_sum'].mean() ) + margin_of_error)  \n",
        "print(\"Confidence interval:\")\n",
        "print(confidence_interval)"
      ],
      "metadata": {
        "id": "8L0N1PMHL7Jr"
      },
      "execution_count": null,
      "outputs": []
    },
    {
      "cell_type": "code",
      "source": [
        "#for the weekday sample\n",
        "t_critical=stats.t.ppf(q=0.975,df=2269)\n",
        "print(t_critical)\n",
        "sample_stdev = sample_weekday.std(ddof=1)\n",
        "sigma = sample_stdev/math.sqrt(2270)  \n",
        "margin_of_error = t_critical * sigma\n",
        "\n",
        "confidence_interval = ((sample_weekday['BlueCars_taken_sum'].mean() )- margin_of_error,\n",
        "                      (sample_weekday['BlueCars_taken_sum'].mean() ) + margin_of_error)  \n",
        "print(\"Confidence interval:\")\n",
        "print(confidence_interval)"
      ],
      "metadata": {
        "id": "S3fB2piUOdXX"
      },
      "execution_count": null,
      "outputs": []
    },
    {
      "cell_type": "markdown",
      "source": [
        "**CONCLUSION**\n",
        "\n",
        "Our p value being too low ,lower than 0.05 we can then regect our null hypothesis thet the average blue cars taken on week days is same to those taken on weekends."
      ],
      "metadata": {
        "id": "sRdqbgBjELSR"
      }
    }
  ]
}